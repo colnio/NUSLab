{
 "cells": [
  {
   "cell_type": "code",
   "execution_count": 1,
   "metadata": {},
   "outputs": [
    {
     "ename": "OSError",
     "evalue": "Could not open VISA library:\nError while accessing /Library/Frameworks/visa.framework/visa: dlopen(/Library/Frameworks/visa.framework/visa, 0x0006): tried: '/Library/Frameworks/visa.framework/visa' (fat file, but missing compatible architecture (have 'x86_64', need 'arm64e' or 'arm64')), '/System/Volumes/Preboot/Cryptexes/OS/Library/Frameworks/visa.framework/visa' (no such file), '/Library/Frameworks/visa.framework/visa' (fat file, but missing compatible architecture (have 'x86_64', need 'arm64e' or 'arm64')), '/Library/Frameworks/VISA.framework/Versions/A/VISA' (fat file, but missing compatible architecture (have 'x86_64', need 'arm64e' or 'arm64')), '/System/Volumes/Preboot/Cryptexes/OS/Library/Frameworks/VISA.framework/Versions/A/VISA' (no such file), '/Library/Frameworks/VISA.framework/Versions/A/VISA' (fat file, but missing compatible architecture (have 'x86_64', need 'arm64e' or 'arm64'))",
     "output_type": "error",
     "traceback": [
      "\u001b[0;31m---------------------------------------------------------------------------\u001b[0m",
      "\u001b[0;31mOSError\u001b[0m                                   Traceback (most recent call last)",
      "Cell \u001b[0;32mIn[1], line 3\u001b[0m\n\u001b[1;32m      1\u001b[0m \u001b[38;5;28;01mimport\u001b[39;00m \u001b[38;5;21;01mkeithley\u001b[39;00m\n\u001b[0;32m----> 3\u001b[0m K \u001b[38;5;241m=\u001b[39m \u001b[43mkeithley\u001b[49m\u001b[38;5;241;43m.\u001b[39;49m\u001b[43mKeithley6517B\u001b[49m\u001b[43m(\u001b[49m\u001b[43m)\u001b[49m\n",
      "File \u001b[0;32m~/workspace/Py_Lang/NUSLab/keithley/NUSLab/keithley.py:6\u001b[0m, in \u001b[0;36mKeithley6517B.__init__\u001b[0;34m(self, gpib_address)\u001b[0m\n\u001b[1;32m      5\u001b[0m \u001b[38;5;28;01mdef\u001b[39;00m \u001b[38;5;21m__init__\u001b[39m(\u001b[38;5;28mself\u001b[39m, gpib_address\u001b[38;5;241m=\u001b[39m\u001b[38;5;124m'\u001b[39m\u001b[38;5;124m27\u001b[39m\u001b[38;5;124m'\u001b[39m):\n\u001b[0;32m----> 6\u001b[0m     \u001b[38;5;28mself\u001b[39m\u001b[38;5;241m.\u001b[39mrm \u001b[38;5;241m=\u001b[39m \u001b[43mpyvisa\u001b[49m\u001b[38;5;241;43m.\u001b[39;49m\u001b[43mResourceManager\u001b[49m\u001b[43m(\u001b[49m\u001b[43m)\u001b[49m\n\u001b[1;32m      7\u001b[0m     \u001b[38;5;28mself\u001b[39m\u001b[38;5;241m.\u001b[39mdevice \u001b[38;5;241m=\u001b[39m \u001b[38;5;28mself\u001b[39m\u001b[38;5;241m.\u001b[39mrm\u001b[38;5;241m.\u001b[39mopen_resource(\u001b[38;5;124mf\u001b[39m\u001b[38;5;124m'\u001b[39m\u001b[38;5;124mGPIB::\u001b[39m\u001b[38;5;132;01m{\u001b[39;00mgpib_address\u001b[38;5;132;01m}\u001b[39;00m\u001b[38;5;124m::INSTR\u001b[39m\u001b[38;5;124m'\u001b[39m)\n\u001b[1;32m      8\u001b[0m     \u001b[38;5;28mself\u001b[39m\u001b[38;5;241m.\u001b[39mdevice\u001b[38;5;241m.\u001b[39mtimeout \u001b[38;5;241m=\u001b[39m \u001b[38;5;241m5000\u001b[39m  \u001b[38;5;66;03m# Timeout for commands, can be adjusted if needed\u001b[39;00m\n",
      "File \u001b[0;32m~/workspace/Py_Lang/NUSLab/keithley/NUSLab/.env/lib/python3.12/site-packages/pyvisa/highlevel.py:2992\u001b[0m, in \u001b[0;36mResourceManager.__new__\u001b[0;34m(cls, visa_library)\u001b[0m\n\u001b[1;32m   2982\u001b[0m \u001b[38;5;250m\u001b[39m\u001b[38;5;124;03m\"\"\"Create a new resource manager tied to the specified VISA library.\u001b[39;00m\n\u001b[1;32m   2983\u001b[0m \n\u001b[1;32m   2984\u001b[0m \u001b[38;5;124;03mParameters\u001b[39;00m\n\u001b[0;32m   (...)\u001b[0m\n\u001b[1;32m   2989\u001b[0m \n\u001b[1;32m   2990\u001b[0m \u001b[38;5;124;03m\"\"\"\u001b[39;00m\n\u001b[1;32m   2991\u001b[0m \u001b[38;5;28;01mif\u001b[39;00m \u001b[38;5;129;01mnot\u001b[39;00m \u001b[38;5;28misinstance\u001b[39m(visa_library, VisaLibraryBase):\n\u001b[0;32m-> 2992\u001b[0m     visa_library \u001b[38;5;241m=\u001b[39m \u001b[43mopen_visa_library\u001b[49m\u001b[43m(\u001b[49m\u001b[43mvisa_library\u001b[49m\u001b[43m)\u001b[49m\n\u001b[1;32m   2994\u001b[0m \u001b[38;5;28;01mif\u001b[39;00m visa_library\u001b[38;5;241m.\u001b[39mresource_manager \u001b[38;5;129;01mis\u001b[39;00m \u001b[38;5;129;01mnot\u001b[39;00m \u001b[38;5;28;01mNone\u001b[39;00m:\n\u001b[1;32m   2995\u001b[0m     obj \u001b[38;5;241m=\u001b[39m visa_library\u001b[38;5;241m.\u001b[39mresource_manager\n",
      "File \u001b[0;32m~/workspace/Py_Lang/NUSLab/keithley/NUSLab/.env/lib/python3.12/site-packages/pyvisa/highlevel.py:2904\u001b[0m, in \u001b[0;36mopen_visa_library\u001b[0;34m(specification)\u001b[0m\n\u001b[1;32m   2901\u001b[0m \u001b[38;5;28mcls\u001b[39m \u001b[38;5;241m=\u001b[39m get_wrapper_class(wrapper)\n\u001b[1;32m   2903\u001b[0m \u001b[38;5;28;01mtry\u001b[39;00m:\n\u001b[0;32m-> 2904\u001b[0m     \u001b[38;5;28;01mreturn\u001b[39;00m \u001b[38;5;28;43mcls\u001b[39;49m\u001b[43m(\u001b[49m\u001b[43margument\u001b[49m\u001b[43m)\u001b[49m\n\u001b[1;32m   2905\u001b[0m \u001b[38;5;28;01mexcept\u001b[39;00m \u001b[38;5;167;01mException\u001b[39;00m \u001b[38;5;28;01mas\u001b[39;00m e:\n\u001b[1;32m   2906\u001b[0m     logger\u001b[38;5;241m.\u001b[39mdebug(\u001b[38;5;124m\"\u001b[39m\u001b[38;5;124mCould not open VISA wrapper \u001b[39m\u001b[38;5;132;01m%s\u001b[39;00m\u001b[38;5;124m: \u001b[39m\u001b[38;5;132;01m%s\u001b[39;00m\u001b[38;5;130;01m\\n\u001b[39;00m\u001b[38;5;132;01m%s\u001b[39;00m\u001b[38;5;124m\"\u001b[39m, \u001b[38;5;28mcls\u001b[39m, \u001b[38;5;28mstr\u001b[39m(argument), e)\n",
      "File \u001b[0;32m~/workspace/Py_Lang/NUSLab/keithley/NUSLab/.env/lib/python3.12/site-packages/pyvisa/highlevel.py:175\u001b[0m, in \u001b[0;36mVisaLibraryBase.__new__\u001b[0;34m(cls, library_path)\u001b[0m\n\u001b[1;32m    173\u001b[0m             errs\u001b[38;5;241m.\u001b[39mappend(\u001b[38;5;28mstr\u001b[39m(e))\n\u001b[1;32m    174\u001b[0m     \u001b[38;5;28;01melse\u001b[39;00m:\n\u001b[0;32m--> 175\u001b[0m         \u001b[38;5;28;01mraise\u001b[39;00m \u001b[38;5;167;01mOSError\u001b[39;00m(\u001b[38;5;124m\"\u001b[39m\u001b[38;5;124mCould not open VISA library:\u001b[39m\u001b[38;5;130;01m\\n\u001b[39;00m\u001b[38;5;124m\"\u001b[39m \u001b[38;5;241m+\u001b[39m \u001b[38;5;124m\"\u001b[39m\u001b[38;5;130;01m\\n\u001b[39;00m\u001b[38;5;124m\"\u001b[39m\u001b[38;5;241m.\u001b[39mjoin(errs))\n\u001b[1;32m    177\u001b[0m \u001b[38;5;28;01mif\u001b[39;00m \u001b[38;5;129;01mnot\u001b[39;00m \u001b[38;5;28misinstance\u001b[39m(library_path, LibraryPath):\n\u001b[1;32m    178\u001b[0m     lib_path \u001b[38;5;241m=\u001b[39m LibraryPath(library_path, \u001b[38;5;124m\"\u001b[39m\u001b[38;5;124muser specified\u001b[39m\u001b[38;5;124m\"\u001b[39m)\n",
      "\u001b[0;31mOSError\u001b[0m: Could not open VISA library:\nError while accessing /Library/Frameworks/visa.framework/visa: dlopen(/Library/Frameworks/visa.framework/visa, 0x0006): tried: '/Library/Frameworks/visa.framework/visa' (fat file, but missing compatible architecture (have 'x86_64', need 'arm64e' or 'arm64')), '/System/Volumes/Preboot/Cryptexes/OS/Library/Frameworks/visa.framework/visa' (no such file), '/Library/Frameworks/visa.framework/visa' (fat file, but missing compatible architecture (have 'x86_64', need 'arm64e' or 'arm64')), '/Library/Frameworks/VISA.framework/Versions/A/VISA' (fat file, but missing compatible architecture (have 'x86_64', need 'arm64e' or 'arm64')), '/System/Volumes/Preboot/Cryptexes/OS/Library/Frameworks/VISA.framework/Versions/A/VISA' (no such file), '/Library/Frameworks/VISA.framework/Versions/A/VISA' (fat file, but missing compatible architecture (have 'x86_64', need 'arm64e' or 'arm64'))"
     ]
    }
   ],
   "source": [
    "import keithley\n",
    "import numpy as np\n",
    "K = keithley.Keithley6517B()"
   ]
  },
  {
   "cell_type": "code",
   "execution_count": null,
   "metadata": {},
   "outputs": [],
   "source": [
    "def measure_IV(device, vmin = 0.0, vmax = 1.0, npoints = 10):\n",
    "    for v_val in np.linspace(vmin, vmax, npoints):\n",
    "        device.set_voltage(v_val)\n",
    "        yield (v_val, device.read_current())\n",
    "    device.close()"
   ]
  },
  {
   "cell_type": "code",
   "execution_count": null,
   "metadata": {},
   "outputs": [],
   "source": [
    "I = []\n",
    "V = []\n",
    "# keithley.source_voltage = 0\n",
    "# keithley.enable_source()\n",
    "# keithley.apply_voltage(voltage_range=5)\n",
    "# keithley.measure_current(nplc=1, current=0.000105, auto_range=True)\n",
    "for (i, v) in measure_IV(keithley, npoints=100):\n",
    "    I.append(i)\n",
    "    V.append(V)\n",
    "    print(i, v)"
   ]
  }
 ],
 "metadata": {
  "kernelspec": {
   "display_name": ".env",
   "language": "python",
   "name": "python3"
  },
  "language_info": {
   "codemirror_mode": {
    "name": "ipython",
    "version": 3
   },
   "file_extension": ".py",
   "mimetype": "text/x-python",
   "name": "python",
   "nbconvert_exporter": "python",
   "pygments_lexer": "ipython3",
   "version": "3.12.7"
  }
 },
 "nbformat": 4,
 "nbformat_minor": 2
}
